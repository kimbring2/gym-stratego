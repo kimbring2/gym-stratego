{
 "cells": [
  {
   "cell_type": "code",
   "execution_count": 21,
   "id": "a47a1b70-c7eb-4cf9-a977-1a9df58d6351",
   "metadata": {},
   "outputs": [
    {
     "name": "stdout",
     "output_type": "stream",
     "text": [
      "len(labels):  2160\n"
     ]
    }
   ],
   "source": [
    "def create_stratego_labels():\n",
    "    labels_array = []\n",
    "    letters = ['a', 'b', 'c', 'd', 'e', 'f', 'g', 'h', 'i', 'j']\n",
    "    numbers = ['1', '2', '3', '4', '5', '6', '7', '8', '9', '10']\n",
    "    for l1 in range(10):\n",
    "        for n1 in range(10):\n",
    "            '''\n",
    "            # For normal unit movement\n",
    "            [(l1 + a, n1) for a in [-1, 1]]\n",
    "            [(l1, n1 + b) for b in [-1, 1]]\n",
    "\n",
    "            # For scount unit movement\n",
    "            [(t, n1) for t in range(10)]\n",
    "            [(l1, t) for t in range(10)]\n",
    "            '''\n",
    "            destinations = [(l1 + a, n1) for a in [-1, 1]] + \\\n",
    "                           [(l1, n1 + b) for b in [-1, 1]] + \\\n",
    "                           [(t, n1) for t in range(10)] + \\\n",
    "                           [(l1, t) for t in range(10)]\n",
    "            \n",
    "            for (l2, n2) in destinations:\n",
    "                if (l1, n1) != (l2, n2) and l2 in range(10) and n2 in range(10):\n",
    "                    move = letters[l1] + numbers[n1] + letters[l2] + numbers[n2]\n",
    "                    labels_array.append(move)\n",
    "\n",
    "    return labels_array\n",
    "\n",
    "labels = create_stratego_labels()\n",
    "print(\"len(labels): \", len(labels))"
   ]
  },
  {
   "cell_type": "code",
   "execution_count": 15,
   "id": "99e5d265-2852-4703-bfcb-30f8316076bb",
   "metadata": {},
   "outputs": [
    {
     "name": "stdout",
     "output_type": "stream",
     "text": [
      "a:  -1\n",
      "a:  1\n"
     ]
    }
   ],
   "source": [
    "for a in [-1, 1]:\n",
    "    print(\"a: \", a)"
   ]
  },
  {
   "cell_type": "code",
   "execution_count": null,
   "id": "c1f11d62-80cb-4caa-b2a4-6b3fe22103b5",
   "metadata": {},
   "outputs": [],
   "source": []
  }
 ],
 "metadata": {
  "kernelspec": {
   "display_name": "selfplay_env",
   "language": "python",
   "name": "selfplay_env"
  },
  "language_info": {
   "codemirror_mode": {
    "name": "ipython",
    "version": 3
   },
   "file_extension": ".py",
   "mimetype": "text/x-python",
   "name": "python",
   "nbconvert_exporter": "python",
   "pygments_lexer": "ipython3",
   "version": "3.8.18"
  }
 },
 "nbformat": 4,
 "nbformat_minor": 5
}
